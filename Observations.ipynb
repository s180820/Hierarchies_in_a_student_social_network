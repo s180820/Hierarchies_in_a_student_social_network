{
 "cells": [
  {
   "cell_type": "markdown",
   "id": "1c8d0512-a42d-4701-8aca-578a95e0c978",
   "metadata": {},
   "source": [
    "# Hierchies in the student network"
   ]
  },
  {
   "cell_type": "markdown",
   "id": "af1aede5-5d16-4027-92f6-1b95e994d69a",
   "metadata": {},
   "source": [
    "## Preamble"
   ]
  },
  {
   "cell_type": "code",
   "execution_count": null,
   "id": "edcbb5bd-2a26-4d71-a830-f7578403c769",
   "metadata": {},
   "outputs": [],
   "source": [
    "#from sensible_raw.loaders import loader #This loader can onlu be used if you have access to the compute server\n",
    "import pandas as pd\n",
    "import numpy as np\n",
    "import calendar\n",
    "import re\n",
    "import seaborn as sns\n",
    "import networkx as nx\n",
    "import netwulf as nw\n",
    "import matplotlib.pyplot as plt\n",
    "from tqdm.notebook import tqdm_notebook\n",
    "from tqdm import tqdm\n",
    "import pandas as pd\n",
    "#!pip install hvplot\n",
    "import holoviews as hv\n",
    "import networkx as nx\n",
    "from holoviews import opts\n",
    "import hvplot.networkx as hvnx\n",
    "#from bokeh.models import HoverTool\n",
    "from network_functions import *\n",
    "from functools import reduce"
   ]
  },
  {
   "cell_type": "code",
   "execution_count": null,
   "id": "a145a521-e0ff-4c23-a26b-e1718a3943e3",
   "metadata": {},
   "outputs": [],
   "source": [
    "all_periods = [\n",
    "    \"%s_%s\" % (month.lower(), year)\n",
    "    for year in [\"2012\",\"2013\", \"2014\", \"2015\", \"2016\"]\n",
    "    for month in [calendar.month_name[m] for m in range(1, 13)]\n",
    "]\n",
    "\n",
    "grades = get_datatype_period(\"grades\", all_periods, sort=True)\n",
    "calls = get_datatype_period(\"calllog\", all_periods, sort=True)\n",
    "sms = get_datatype_period(\"sms\", all_periods, sort=True)\n",
    "#gender = get_datatype_period(\"user_metadata\", all_periods, sort=True)\n",
    "\n",
    "create_nw_csv(sms, 'sms')\n",
    "create_nw_csv(calls, 'call')"
   ]
  },
  {
   "cell_type": "code",
   "execution_count": null,
   "id": "cff39155-57a7-4e0e-b1a8-4e332828b170",
   "metadata": {},
   "outputs": [],
   "source": [
    "#This data will not be available as it would against the contract of not distributing the data.\n",
    "call = pd.read_csv(\"call_network.csv\")\n",
    "sms = pd.read_csv(\"sms_network.csv\")\n",
    "\n",
    "all_dfs = [sms, call]\n",
    "combined = pd.concat(all_dfs).reset_index(drop=True)\n",
    "combined = combined.drop(['Unnamed: 0'], axis=1)\n",
    "\n",
    "#Initializing networks\n",
    "call_nw = initialize_network(call, \"user\", \"address\")\n",
    "sms_nw = initialize_network(sms, \"user\", \"address\")\n",
    "combined_nw = initialize_network(combined, \"user\", \"address\")"
   ]
  },
  {
   "cell_type": "code",
   "execution_count": 2,
   "id": "cb24e9a0-d788-4b7d-a6f4-4d3051a99b6c",
   "metadata": {},
   "outputs": [],
   "source": [
    "#get_stats(call_nw)\n",
    "#get_stats(sms_nw)\n",
    "#get_stats(combined_nw)"
   ]
  },
  {
   "cell_type": "markdown",
   "id": "56d2c84d-81a3-4e0c-929b-2108021d7037",
   "metadata": {},
   "source": [
    "Amount of nodes in network: 784 \n",
    "Amount of edges in network: 3771\n",
    "The probability that two nodes are connected: \t\t p = 1.228595 %\n",
    "The average degree of the nodes are: \t\t\t <k> = 9.6199\n",
    "Standard deviation of degrees of the network:\t 9.2929\n",
    "Max degree: 85\n",
    "Min degree: 0\n",
    "Max In degree: 39\n",
    "Min In degree: 0\n",
    "Max Out degree: 46\n",
    "Min Out degree: 0\n",
    "Dangling Nodes: 61 \n",
    "\n",
    "Amount of nodes in network: 795\n",
    "Amount of edges in network: 3788\n",
    "The probability that two nodes are connected: \t\t p = 1.200196 %\n",
    "The average degree of the nodes are: \t\t\t <k> = 9.5296\n",
    "Standard deviation of degrees of the network:\t 8.7462\n",
    "Max degree: 73\n",
    "Min degree: 0\n",
    "Max In degree: 34\n",
    "Min In degree: 0\n",
    "Max Out degree: 39\n",
    "Min Out degree: 0\n",
    "Dangling Nodes: 50 \n",
    "\n",
    "Amount of nodes in network: 807\n",
    "Amount of edges in network: 4674\n",
    "The probability that two nodes are connected: \t\t p = 1.437177 %\n",
    "The average degree of the nodes are: \t\t\t <k> = 11.5836\n",
    "Standard deviation of degrees of the network:\t 11.0308\n",
    "Max degree: 95\n",
    "Min degree: 0\n",
    "Max In degree: 44\n",
    "Min In degree: 0\n",
    "Max Out degree: 51\n",
    "Min Out degree: 0\n",
    "Dangling Nodes: 51 "
   ]
  },
  {
   "cell_type": "code",
   "execution_count": null,
   "id": "4d9793b2-94db-47f9-b874-444a717e393c",
   "metadata": {},
   "outputs": [],
   "source": [
    "#Would visualise the networks with PageRank as colour and the sprin layout.\n",
    "visualise_network_spring(sms_nw)\n",
    "visualise_network_spring(call_nw)\n",
    "visualise_network_spring(combined_nw)"
   ]
  },
  {
   "cell_type": "code",
   "execution_count": null,
   "id": "82cbda93-cc82-4ed2-a6c4-e7818399ada3",
   "metadata": {},
   "outputs": [],
   "source": [
    "#Creates an edgelist from the dataframe \n",
    "create_edgelist(sms, thres=20)"
   ]
  },
  {
   "cell_type": "code",
   "execution_count": null,
   "id": "3bd18375-3632-4f2e-bc29-344223d82d40",
   "metadata": {},
   "outputs": [],
   "source": [
    "#Creates a rankings dataframe from an edgelist and colors the network in respect to ranking\n",
    "rankings = rankings_df(\"df_edgelist_thres20\")\n",
    "G = sms_nw\n",
    "\n",
    "visualise_network_ranking(G, rankings, size_scale=100)"
   ]
  },
  {
   "cell_type": "code",
   "execution_count": null,
   "id": "5529c2ce-9e14-42c7-9736-bfdc74cff2c4",
   "metadata": {},
   "outputs": [],
   "source": [
    "#Shows the correlation heatmap\n",
    "correlation_heatmap(sms_nw, rankings)"
   ]
  },
  {
   "cell_type": "code",
   "execution_count": null,
   "id": "eea6d14d-6672-4011-8794-e84ec43aaa9b",
   "metadata": {},
   "outputs": [],
   "source": [
    "#Plots the distribution of ranks\n",
    "df = rankings\n",
    "sns.histplot(df[df['Rank']>0].Rank, bins=int(20), kde=True).set_title('Distribution of Ranks')\n",
    "plt.show()"
   ]
  },
  {
   "cell_type": "markdown",
   "id": "c3015058-6e5c-4130-b4a6-29751431f3b6",
   "metadata": {},
   "source": [
    "## Mean statitics between males and females"
   ]
  },
  {
   "cell_type": "code",
   "execution_count": null,
   "id": "8f3318b7-1c1a-4ae8-9bc1-84db5d72ee2a",
   "metadata": {},
   "outputs": [],
   "source": [
    "df = network_ranking_df(sms_nw, rankings)\n",
    "print(df[df['gender']=='M'].mean())\n",
    "print(df[df['gender']=='K'].mean())"
   ]
  },
  {
   "cell_type": "markdown",
   "id": "f125bd82-e08a-41a9-b15f-0c757f183f46",
   "metadata": {},
   "source": [
    "Males: <br>\n",
    "degree             12.788079 <br>\n",
    "Participant       351.950331 <br>\n",
    "in_out                   inf <br>\n",
    "grade               7.281222 <br>\n",
    "semester            4.384106 <br>\n",
    "starting_year    2012.470199 <br>\n",
    "Pagerank            0.001498 <br>\n",
    "Rank               80.336082 <br>\n",
    "\n",
    "Females: <br>\n",
    "degree             15.141509 <br>\n",
    "Participant       375.056604 <br>\n",
    "in_out                   inf <br>\n",
    "grade               7.089734 <br>\n",
    "semester            4.405660 <br>\n",
    "starting_year    2012.594340 <br>\n",
    "Pagerank            0.001695 <br>\n",
    "Rank               90.470649 <br>"
   ]
  },
  {
   "cell_type": "code",
   "execution_count": null,
   "id": "c44dddbb-5da3-4cef-bc91-c20b67fca3ed",
   "metadata": {},
   "outputs": [],
   "source": []
  },
  {
   "cell_type": "markdown",
   "id": "a67aee86-34e9-499c-a418-860f5a070bb2",
   "metadata": {},
   "source": [
    "## Does Ranking change over time?"
   ]
  },
  {
   "cell_type": "markdown",
   "id": "a61c5986-f3dd-4573-a111-6105401a4f0e",
   "metadata": {},
   "source": [
    "### For rank"
   ]
  },
  {
   "cell_type": "code",
   "execution_count": null,
   "id": "260fa00c-ed0c-45b4-84c5-96a65ef94aee",
   "metadata": {},
   "outputs": [],
   "source": [
    "create_time_csv(smsraw, \"sms\")\n",
    "\n",
    "numbers = [3,4,5] #Chosen because it contains the semesters with most data on students \n",
    "dfs = []\n",
    "for i in numbers:\n",
    "    rankings = rankings_df(\"time/sms_{}_edgelist\".format(i))\n",
    "    rankings = rankings.rename(columns={\"Rank\": \"Rank_{}\".format(i)})\n",
    "    rankings = rankings.drop(['Rank_norm'], axis=1)\n",
    "    dfs.append(rankings)\n",
    "    \n",
    "df_merged = reduce(lambda  left,right: pd.merge(left,right,on=['Participant'], how='outer'), dfs)\n",
    "df_merged = df_merged.dropna()\n",
    "df_merged = df_merged.drop(['Participant'], axis=1) #Drop nans and unnecessary columns"
   ]
  },
  {
   "cell_type": "code",
   "execution_count": null,
   "id": "33690302-4301-4667-8b28-61a3bee5b8ca",
   "metadata": {},
   "outputs": [],
   "source": [
    "#Normalise the ranks\n",
    "df_merged['Rank_3'] = df_merged['Rank_3'].div(max(df_merged['Rank_3']))\n",
    "df_merged['Rank_4'] = df_merged['Rank_4'].div(max(df_merged['Rank_4']))\n",
    "df_merged['Rank_5'] = df_merged['Rank_5'].div(max(df_merged['Rank_5']))"
   ]
  },
  {
   "cell_type": "code",
   "execution_count": null,
   "id": "74130b0b-4980-4851-82a8-5c1f99f24fa9",
   "metadata": {},
   "outputs": [],
   "source": [
    "#Plot the rank\n",
    "ax = df_merged.mean().plot.line(linewidth=5)\n",
    "df_merged.T.plot.line(alpha=0.2, legend=None, color='lightblue', ax=ax)\n",
    "plt.show"
   ]
  },
  {
   "cell_type": "code",
   "execution_count": null,
   "id": "024e30b8-d2f1-4306-8695-f99497337df9",
   "metadata": {},
   "outputs": [],
   "source": [
    "#Print the difference\n",
    "df_merged['diff34'] = df_merged['Rank_4']-df_merged['Rank_3']\n",
    "df_merged['diff45'] = df_merged['Rank_5']-df_merged['Rank_4']\n",
    "\n",
    "print(df_merged.diff34.mean())\n",
    "df_merged.diff45.mean()"
   ]
  },
  {
   "cell_type": "markdown",
   "id": "27c7b6bf-9a31-46c4-90d1-ffc974169efe",
   "metadata": {},
   "source": [
    "### Pagerank"
   ]
  },
  {
   "cell_type": "code",
   "execution_count": null,
   "id": "0994b6e8-d80d-4360-8734-3da47cb2dbba",
   "metadata": {},
   "outputs": [],
   "source": [
    "df3 = pd.read_csv('time/sms_3_network.csv')\n",
    "df4 = pd.read_csv('time/sms_4_network.csv')\n",
    "df5 = pd.read_csv('time/sms_5_network.csv')\n",
    "\n",
    "#Create networks\n",
    "nw3 = nx.from_pandas_edgelist(df3, source='user', target='address', edge_attr=None, create_using = nx.DiGraph())\n",
    "nw4 = nx.from_pandas_edgelist(df4, source='user', target='address', edge_attr=None, create_using = nx.DiGraph())\n",
    "nw5 = nx.from_pandas_edgelist(df5, source='user', target='address', edge_attr=None, create_using = nx.DiGraph())\n",
    "\n",
    "#Calculate PageRank\n",
    "pr3 = nx.pagerank(nw3, alpha=0.65)\n",
    "pr4 = nx.pagerank(nw4, alpha=0.65)\n",
    "pr5 = nx.pagerank(nw5, alpha=0.65)\n",
    "\n",
    "prdf3 = pd.DataFrame.from_dict(pr3, orient='index', columns=[\"Pagerank_3\"])\n",
    "prdf4 = pd.DataFrame.from_dict(pr4, orient='index', columns=[\"Pagerank_4\"])\n",
    "prdf5 = pd.DataFrame.from_dict(pr5, orient='index', columns=[\"Pagerank_5\"])\n",
    "\n",
    "#Normalise\n",
    "prdf3[\"Pagerank_3\"] = prdf3[\"Pagerank_3\"].div(max(prdf3['Pagerank_3']))\n",
    "prdf4[\"Pagerank_4\"] = prdf4[\"Pagerank_4\"].div(max(prdf4['Pagerank_4']))\n",
    "prdf5[\"Pagerank_5\"] = prdf5[\"Pagerank_5\"].div(max(prdf5['Pagerank_5']))\n",
    "\n",
    "prdf3['Participant'] = prdf3.index\n",
    "prdf4['Participant'] = prdf4.index\n",
    "prdf5['Participant'] = prdf5.index\n",
    "\n",
    "data_frames = [prdf3, prdf4, prdf5]\n",
    "#Combine to one Dataframe\n",
    "df_merged = reduce(lambda  left,right: pd.merge(left,right,on=['Participant'], how='outer'), data_frames)\n",
    "df_merged = df_merged.drop(['Participant'], axis=1)"
   ]
  },
  {
   "cell_type": "code",
   "execution_count": null,
   "id": "377174d0-fe20-4c1c-95e6-0d029adf7871",
   "metadata": {},
   "outputs": [],
   "source": [
    "#plot and print differnce\n",
    "ax = df_merged.mean().plot.line(linewidth=5)\n",
    "df_merged.T.plot.line(alpha=0.2, legend=None, color='lightblue', ax=ax)\n",
    "plt.show"
   ]
  },
  {
   "cell_type": "code",
   "execution_count": null,
   "id": "d0eaff42-e7c7-46ca-83d8-455247633a30",
   "metadata": {},
   "outputs": [],
   "source": [
    "df_merged['diff34'] = df_merged['Pagerank_4']-df_merged['Pagerank_3']\n",
    "df_merged['diff45'] = df_merged['Pagerank_5']-df_merged['Pagerank_4']\n",
    "\n",
    "print(df_merged.diff34.mean())\n",
    "df_merged.diff45.mean()"
   ]
  },
  {
   "cell_type": "markdown",
   "id": "44572fd7-1209-4d14-a16d-046a023800eb",
   "metadata": {},
   "source": [
    "## In and out networks"
   ]
  },
  {
   "cell_type": "code",
   "execution_count": null,
   "id": "324ec128-58a4-4cfb-b203-18449cddd5ae",
   "metadata": {},
   "outputs": [],
   "source": [
    "visualise_in_out_networks(sms, ranking) #check functions.py"
   ]
  },
  {
   "cell_type": "markdown",
   "id": "894120bd-df46-47d4-93c0-8a19d40fc403",
   "metadata": {},
   "source": [
    "## XGBoost Prediction"
   ]
  },
  {
   "cell_type": "code",
   "execution_count": null,
   "id": "a2266ec0-8b63-4929-b0ce-a61b42c0a106",
   "metadata": {},
   "outputs": [],
   "source": [
    "#!pip install xgboost\n",
    "import xgboost as xgb\n",
    "from sklearn.model_selection import train_test_split\n",
    "from numpy import absolute\n",
    "from pandas import read_csv\n",
    "from sklearn.model_selection import cross_val_score\n",
    "from sklearn.model_selection import RepeatedKFold\n",
    "from sklearn.metrics import mean_squared_error\n",
    "\n",
    "#ranking = rankings_df(\"df_edgelist_thres20\")\n",
    "data = network_ranking_df(sms_nw, ranking)\n",
    "#data = data[data[\"Rank\"]>-1]\n",
    "X = data.drop(['in_out', 'Participant', 'Pagerank', 'Rank', 'degree', 'semester'], axis=1).dropna().copy()\n",
    "y = data['Rank'].copy()\n",
    "\n",
    "# Import DictVectorizer\n",
    "from sklearn.feature_extraction import DictVectorizer\n",
    "\n",
    "# Convert df into a dictionary using .to_dict(): df_dict\n",
    "df_dict = X.to_dict(\"records\")\n",
    "\n",
    "# Create the DictVectorizer object: dv\n",
    "dv = DictVectorizer(sparse=False)\n",
    "\n",
    "# Apply dv on df_dict: df_encoded\n",
    "X_encoded = dv.fit_transform(df_dict)\n",
    "\n",
    "X_encoded = pd.DataFrame(X_encoded)\n",
    "\n",
    "X_train, X_test, y_train, y_test= train_test_split(X_encoded, y, test_size=0.2, random_state=42069)"
   ]
  },
  {
   "cell_type": "code",
   "execution_count": null,
   "id": "77204c6d-d5df-47ad-a068-5ba5075552f2",
   "metadata": {},
   "outputs": [],
   "source": [
    "#Initial model\n",
    "model = xgb.XGBRegressor(objective='reg:squarederror')\n",
    "model.fit(X_train, y_train)\n",
    "\n",
    "y_pred = model.predict(x_test)\n",
    "\n",
    "mse = mean_squared_error(y_test,y_pred)\n",
    "rmse = np.sqrt(mse)\n",
    "\n",
    "print(mse)\n",
    "print(rmse)"
   ]
  },
  {
   "cell_type": "markdown",
   "id": "a513948a-a19b-4284-9c83-c26c8def38aa",
   "metadata": {},
   "source": [
    "6787.895624946226 <br>\n",
    "82.38868626787435"
   ]
  },
  {
   "cell_type": "code",
   "execution_count": null,
   "id": "d8d51de0-6dba-4a6f-8894-9af83b01c655",
   "metadata": {},
   "outputs": [],
   "source": [
    "#Parameter search\n",
    "param = {'max_depth': [3,4], \n",
    "         'learning_rate': [0.01, 0.1], \n",
    "         'gamma':[0.25, 1],\n",
    "         'reg_lambda':[5.0, 10.0],\n",
    "         'scale_pos_weight':[1,5]}\n",
    "\n",
    "optimal_params = GridSearchCV(\n",
    "         estimator=xgb.XGBRegressor(\n",
    "         objective='reg:squarederror', seed=42069, subsample=0.9),\n",
    "         param_grid=param, cv=3, verbose=5).fit(x_train,y_train)\n",
    "          \n",
    "# optimal parameters \n",
    "print(optimal_params.best_params_) "
   ]
  },
  {
   "cell_type": "markdown",
   "id": "48f64a30-d772-4a09-a673-3b4fac7bf7b1",
   "metadata": {},
   "source": [
    "{'gamma': 0.25, 'learning_rate': 0.1, 'max_depth': 3, 'reg_lambda': 10.0, 'scale_pos_weight': 1}"
   ]
  },
  {
   "cell_type": "code",
   "execution_count": null,
   "id": "d1a55a53-37e4-45c9-85c9-6bf252436136",
   "metadata": {},
   "outputs": [],
   "source": [
    "param = {'max_depth': [2,3], \n",
    "         'learning_rate': [0.1], \n",
    "         'gamma':[0, 0.25],\n",
    "         'reg_lambda':[10.0, 15.0],\n",
    "         'scale_pos_weight':[0.5,1]}\n",
    "\n",
    "optimal_params = GridSearchCV(\n",
    "         estimator=xgb.XGBRegressor(\n",
    "         objective='reg:squarederror', seed=42069, subsample=0.9),\n",
    "         param_grid=param, cv=3, verbose=5).fit(x_train,y_train)\n",
    "          \n",
    "# optimal parameters \n",
    "print(optimal_params.best_params_) "
   ]
  },
  {
   "cell_type": "markdown",
   "id": "273a522d-24b5-4fac-bd96-345deb88dd4f",
   "metadata": {},
   "source": [
    "{'gamma': 0, 'learning_rate': 0.1, 'max_depth': 2, 'reg_lambda': 15.0, 'scale_pos_weight': 0.5}"
   ]
  },
  {
   "cell_type": "code",
   "execution_count": null,
   "id": "ceb8316f-6d49-4266-b511-4164aa93db64",
   "metadata": {},
   "outputs": [],
   "source": [
    "param = {'max_depth': [2], \n",
    "         'learning_rate': [0.1, 0.2], \n",
    "         'gamma':[0],\n",
    "         'reg_lambda':[15.0, 25.0],\n",
    "         'scale_pos_weight':[0.5]}\n",
    "\n",
    "optimal_params = GridSearchCV(\n",
    "         estimator=xgb.XGBRegressor(\n",
    "         objective='reg:squarederror', seed=42069, subsample=0.9),\n",
    "         param_grid=param, cv=3, verbose=5).fit(x_train,y_train)\n",
    "          \n",
    "# optimal parameters \n",
    "print(optimal_params.best_params_)"
   ]
  },
  {
   "cell_type": "markdown",
   "id": "31dd6ec0-53c8-4179-8fe5-af2a4b17f25b",
   "metadata": {},
   "source": [
    "{'gamma': 0, 'learning_rate': 0.1, 'max_depth': 2, 'reg_lambda': 25.0, 'scale_pos_weight': 0.5}"
   ]
  },
  {
   "cell_type": "code",
   "execution_count": null,
   "id": "e45498c4-4a51-40f0-b884-9299ff322676",
   "metadata": {},
   "outputs": [],
   "source": [
    "param = {'max_depth': [1,2], \n",
    "         'learning_rate': [0.1], \n",
    "         'gamma':[0],\n",
    "         'reg_lambda':[25.0, 30.0, 35.0],\n",
    "         'scale_pos_weight':[0.5]}\n",
    "\n",
    "optimal_params = GridSearchCV(\n",
    "         estimator=xgb.XGBRegressor(\n",
    "         objective='reg:squarederror', seed=42069, subsample=0.9),\n",
    "         param_grid=param, cv=3, verbose=5).fit(x_train,y_train)\n",
    "          \n",
    "# optimal parameters \n",
    "print(optimal_params.best_params_)"
   ]
  },
  {
   "cell_type": "markdown",
   "id": "0a597169-e0c7-4eaa-a898-45ea58ed772d",
   "metadata": {},
   "source": [
    "{'gamma': 0, 'learning_rate': 0.1, 'max_depth': 1, 'reg_lambda': 25.0, 'scale_pos_weight': 0.5}"
   ]
  },
  {
   "cell_type": "code",
   "execution_count": null,
   "id": "581afb34-a928-4b1c-8dec-f7955380b430",
   "metadata": {},
   "outputs": [],
   "source": [
    "final_model = xgb.XGBRegressor(seed=42069, objective='reg:squarederror', max_depth=1, learning_rate=0.1, gamma=0,reg_lambda=25.0, scale_pos_weight=0.5)\n",
    "final_model.fit(X_train,y_train,verbose=True, eval_metric='rmse')\n",
    "\n",
    "cv = RepeatedKFold(n_splits=10, n_repeats=3, random_state=1)\n",
    "# evaluate model\n",
    "scores = cross_val_score(final_model, X_train, y_train, scoring='neg_mean_absolute_error', cv=cv, n_jobs=-1)\n",
    "\n",
    "# force scores to be positive\n",
    "scores = absolute(scores)\n",
    "print('Mean MAE: %.3f (%.3f)' % (scores.mean(), scores.std()) ) \n",
    "\n",
    "scores_final = cross_val_score(final_model, X_train, y_train, cv=10)\n",
    "print(\"Mean cross-validation score: %.2f\" % scores_final.mean())\n",
    "\n",
    "y_pred_final = final_model.predict(X_test)\n",
    "\n",
    "mse_final = mean_squared_error(y_test, y_pred_final)\n",
    "print(\"FINAL MSE: %.2f\" % mse_final)\n",
    "\n",
    "# Root mean squared error\n",
    "rmse_final= np.sqrt(mse_final)\n",
    "print(\"FINAL RMSE: %.2f\" % rmse_final)\n",
    "\n",
    "#plots the feature importance\n",
    "xgb.plot_importance(final_model)\n",
    "import pprint\n",
    "pprint.pprint(dv.vocabulary_)"
   ]
  },
  {
   "cell_type": "markdown",
   "id": "5216750c-a7d0-4e6b-9adb-e6bcb9a14eaf",
   "metadata": {},
   "source": [
    "## Do we connect with people of similar grade?"
   ]
  },
  {
   "cell_type": "code",
   "execution_count": null,
   "id": "c3e8dd8a-3797-4dcf-b645-05b5a2dd7e87",
   "metadata": {},
   "outputs": [],
   "source": [
    "grades = pd.read_csv('GPA.csv')\n",
    "grades\n",
    "grades = grades[(grades.user > -1) & (grades.user < 853)]"
   ]
  },
  {
   "cell_type": "code",
   "execution_count": null,
   "id": "129074ca-db34-42a0-8fb6-2109f9f03b2f",
   "metadata": {},
   "outputs": [],
   "source": [
    "grade_texter = []\n",
    "grade_reciever = []\n",
    "for i in range(len(sms)):\n",
    "    try:\n",
    "        grade_texter.append(grades[grades['user'] == sms['user'][i]].grade.values.tolist()[0])\n",
    "    except IndexError:\n",
    "        grade_texter.append(np.nan)\n",
    "    try:\n",
    "        grade_reciever.append(grades[grades['user'] == sms['address'][i]].grade.values.tolist()[0])\n",
    "    except IndexError:\n",
    "        grade_reciever.append(np.nan)"
   ]
  },
  {
   "cell_type": "code",
   "execution_count": null,
   "id": "2e73367f-18b5-4157-b1d3-444ac07301e7",
   "metadata": {},
   "outputs": [],
   "source": [
    "data = {'texter':sms['user'],\n",
    "        'reciever':sms['address'],\n",
    "        'sent':sms['sent'],\n",
    "        'texter_grade':grade_texter,\n",
    "        'reciever_grade':grade_reciever,\n",
    "        'grade_difference': abs(np.array(grade_texter)-np.array(grade_reciever))}\n",
    "\n",
    "dataf = pd.DataFrame(data)\n",
    "dataf.grade_difference.mean()"
   ]
  },
  {
   "cell_type": "markdown",
   "id": "e0af4773-f275-439b-9d65-5fbfd49724c4",
   "metadata": {},
   "source": [
    "2.4037718218695465"
   ]
  },
  {
   "cell_type": "code",
   "execution_count": null,
   "id": "62aae290-3f95-4b64-963b-d59f9727bff1",
   "metadata": {},
   "outputs": [],
   "source": [
    "import random\n",
    "a = sms['user'].values.tolist()\n",
    "b = grade_texter\n",
    "\n",
    "x = sms['address'].values.tolist()\n",
    "y = grade_reciever\n",
    "\n",
    "c = list(zip(a, b))\n",
    "z = list(zip(x, y))\n",
    "\n",
    "means = []\n",
    "\n",
    "for i in range(1000):\n",
    "    random.shuffle(c)\n",
    "    random.shuffle(z)\n",
    "\n",
    "    a, b = zip(*c)\n",
    "    x, y = zip(*z)\n",
    "\n",
    "    means.append(np.nanmean(abs(np.array(b)-np.array(y))))\n",
    "\n",
    "np.mean(means)"
   ]
  },
  {
   "cell_type": "markdown",
   "id": "b4b27ab4-104c-49c4-b172-c964d0f3b92e",
   "metadata": {},
   "source": [
    "2.8586856652713877"
   ]
  },
  {
   "cell_type": "code",
   "execution_count": null,
   "id": "9e0ef3dd-7f70-462d-bc03-50a8969b75d6",
   "metadata": {},
   "outputs": [],
   "source": [
    "small_to_big = 0\n",
    "big_to_small = 0\n",
    "for i in range(len(dataf)):\n",
    "    if dataf['texter_grade'][i] < dataf['reciever_grade'][i]:\n",
    "        small_to_big += 1\n",
    "    else:\n",
    "        big_to_small += 1\n",
    "\n",
    "print(small_to_big)\n",
    "print(big_to_small)"
   ]
  },
  {
   "cell_type": "markdown",
   "id": "ee900025-5fde-4eb7-a99a-402045a0cfa8",
   "metadata": {},
   "source": [
    "1733 <br>\n",
    "2403"
   ]
  },
  {
   "cell_type": "code",
   "execution_count": null,
   "id": "78a834ab-e92c-479c-bd28-f7ac01a787bf",
   "metadata": {},
   "outputs": [],
   "source": []
  }
 ],
 "metadata": {
  "kernelspec": {
   "display_name": "Python 3 (ipykernel)",
   "language": "python",
   "name": "python3"
  },
  "language_info": {
   "codemirror_mode": {
    "name": "ipython",
    "version": 3
   },
   "file_extension": ".py",
   "mimetype": "text/x-python",
   "name": "python",
   "nbconvert_exporter": "python",
   "pygments_lexer": "ipython3",
   "version": "3.9.7"
  }
 },
 "nbformat": 4,
 "nbformat_minor": 5
}
